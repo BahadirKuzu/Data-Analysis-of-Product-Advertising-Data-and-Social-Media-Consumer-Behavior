{
 "cells": [
  {
   "cell_type": "markdown",
   "id": "b17b578a-3bba-4cfc-a1da-01f95d6c47e3",
   "metadata": {},
   "source": [
    "## Tests on Mean\n",
    "---"
   ]
  },
  {
   "cell_type": "code",
   "execution_count": 33,
   "id": "7883c5db-4e06-4646-9f7a-0fe64368e3ea",
   "metadata": {},
   "outputs": [],
   "source": [
    "import pandas as pd\n",
    "import numpy as np\n",
    "from scipy import stats \n",
    "import statsmodels.api as sm\n",
    "from scipy.stats import chi2, f, norm, t"
   ]
  },
  {
   "cell_type": "code",
   "execution_count": 34,
   "id": "107c44b6-cf0d-4ba3-b49d-3f093b2e2ed1",
   "metadata": {},
   "outputs": [
    {
     "data": {
      "text/html": [
       "<div>\n",
       "<style scoped>\n",
       "    .dataframe tbody tr th:only-of-type {\n",
       "        vertical-align: middle;\n",
       "    }\n",
       "\n",
       "    .dataframe tbody tr th {\n",
       "        vertical-align: top;\n",
       "    }\n",
       "\n",
       "    .dataframe thead th {\n",
       "        text-align: right;\n",
       "    }\n",
       "</style>\n",
       "<table border=\"1\" class=\"dataframe\">\n",
       "  <thead>\n",
       "    <tr style=\"text-align: right;\">\n",
       "      <th></th>\n",
       "      <th>TV</th>\n",
       "      <th>Billboards</th>\n",
       "      <th>Google_Ads</th>\n",
       "      <th>Social_Media</th>\n",
       "      <th>Influencer_Marketing</th>\n",
       "      <th>Affiliate_Marketing</th>\n",
       "      <th>Product_Sold</th>\n",
       "    </tr>\n",
       "  </thead>\n",
       "  <tbody>\n",
       "    <tr>\n",
       "      <th>0</th>\n",
       "      <td>281.42</td>\n",
       "      <td>538.80</td>\n",
       "      <td>123.94</td>\n",
       "      <td>349.30</td>\n",
       "      <td>242.77</td>\n",
       "      <td>910.10</td>\n",
       "      <td>7164.0</td>\n",
       "    </tr>\n",
       "    <tr>\n",
       "      <th>1</th>\n",
       "      <td>702.97</td>\n",
       "      <td>296.53</td>\n",
       "      <td>558.13</td>\n",
       "      <td>180.55</td>\n",
       "      <td>781.06</td>\n",
       "      <td>132.43</td>\n",
       "      <td>5055.0</td>\n",
       "    </tr>\n",
       "    <tr>\n",
       "      <th>2</th>\n",
       "      <td>313.14</td>\n",
       "      <td>295.94</td>\n",
       "      <td>642.96</td>\n",
       "      <td>505.71</td>\n",
       "      <td>438.91</td>\n",
       "      <td>464.23</td>\n",
       "      <td>6154.0</td>\n",
       "    </tr>\n",
       "    <tr>\n",
       "      <th>3</th>\n",
       "      <td>898.52</td>\n",
       "      <td>61.27</td>\n",
       "      <td>548.73</td>\n",
       "      <td>240.93</td>\n",
       "      <td>278.96</td>\n",
       "      <td>432.27</td>\n",
       "      <td>5480.0</td>\n",
       "    </tr>\n",
       "    <tr>\n",
       "      <th>4</th>\n",
       "      <td>766.52</td>\n",
       "      <td>550.72</td>\n",
       "      <td>651.91</td>\n",
       "      <td>666.33</td>\n",
       "      <td>396.33</td>\n",
       "      <td>841.93</td>\n",
       "      <td>9669.0</td>\n",
       "    </tr>\n",
       "  </tbody>\n",
       "</table>\n",
       "</div>"
      ],
      "text/plain": [
       "       TV  Billboards  Google_Ads  Social_Media  Influencer_Marketing  \\\n",
       "0  281.42      538.80      123.94        349.30                242.77   \n",
       "1  702.97      296.53      558.13        180.55                781.06   \n",
       "2  313.14      295.94      642.96        505.71                438.91   \n",
       "3  898.52       61.27      548.73        240.93                278.96   \n",
       "4  766.52      550.72      651.91        666.33                396.33   \n",
       "\n",
       "   Affiliate_Marketing  Product_Sold  \n",
       "0               910.10        7164.0  \n",
       "1               132.43        5055.0  \n",
       "2               464.23        6154.0  \n",
       "3               432.27        5480.0  \n",
       "4               841.93        9669.0  "
      ]
     },
     "execution_count": 34,
     "metadata": {},
     "output_type": "execute_result"
    }
   ],
   "source": [
    "# Import data in a data frame\n",
    "df = pd.read_csv(r\"C:\\Users\\bahad\\Desktop\\Courses\\Data Analysis\\Advertising_Data.csv\")\n",
    "df.head()"
   ]
  },
  {
   "cell_type": "markdown",
   "id": "60eaa6fb-3e49-4331-bf56-fe08630d23e5",
   "metadata": {},
   "source": [
    "## 1 sample T test\n",
    "---"
   ]
  },
  {
   "cell_type": "markdown",
   "id": "632da449-1308-48db-8365-a16139cf2a27",
   "metadata": {},
   "source": [
    "### Q: *\" 1 sample T test : Is average product sales equal to 7000 because of advertisement?\"*\n"
   ]
  },
  {
   "cell_type": "code",
   "execution_count": 35,
   "id": "5fc16f0a-4690-4298-a4c2-0012d7cb1e38",
   "metadata": {},
   "outputs": [
    {
     "name": "stdout",
     "output_type": "stream",
     "text": [
      "Data set composed of n = 300 values\n",
      "Sample mean = 7031.52, Sample std = 1703.61\n"
     ]
    }
   ],
   "source": [
    "#mean on product sales (mu0) = 7000\n",
    "\n",
    "mu0 = 7000\n",
    "\n",
    "# Level of significance\n",
    "a = 0.05\n",
    "\n",
    "# Number of values\n",
    "n = len(df)\n",
    "\n",
    "# Sample mean\n",
    "tmp =  df.mean()\n",
    "ybar= tmp['Product_Sold'] #7031\n",
    "\n",
    "# Sample std\n",
    "tmp = df.std(ddof=1)\n",
    "Sy = tmp['Product_Sold']  #1703\n",
    "\n",
    "print(f'Data set composed of n = {n} values')\n",
    "print(f'Sample mean = {ybar:.2f}, Sample std = {Sy:.2f}')"
   ]
  },
  {
   "cell_type": "code",
   "execution_count": 36,
   "id": "9f9a2453-fac2-43dc-a3fd-f8e129ef0ea7",
   "metadata": {},
   "outputs": [],
   "source": [
    "# Compute value of Test Statistoc (TS)\n",
    "tbar = (ybar - mu0) / (Sy/np.sqrt(n))\n",
    "\n",
    "# Compute p-value = 2*P(T>|tbar|)\n",
    "pvalue = 2*(1 - t.cdf(np.abs(tbar), df=n-1))"
   ]
  },
  {
   "cell_type": "code",
   "execution_count": 37,
   "id": "afb70103-7b29-4f59-9694-859ee919d893",
   "metadata": {},
   "outputs": [
    {
     "name": "stdout",
     "output_type": "stream",
     "text": [
      " TS value     T = 0.320\n",
      "        p-value = 0.749\n",
      "sig. lev. alpha = 0.050\n"
     ]
    }
   ],
   "source": [
    "# Print results\n",
    "print(f' TS value     T = {tbar:.3f}')\n",
    "print(f'        p-value = {pvalue:.3f}')\n",
    "print(f'sig. lev. alpha = {a:.3f}')"
   ]
  },
  {
   "cell_type": "markdown",
   "id": "b971bed9-c837-4ab0-80d3-7dd33b791899",
   "metadata": {},
   "source": [
    "#### Q: *\"Is average product sold equal to 7000 units?\"*\n",
    "#### A: *\"We failed to reject our null hypothesis(H_0), at level of significance $\\alpha = 0.05$ (p-value=0.749), Hence average product sold is 7000 units\" *"
   ]
  },
  {
   "cell_type": "markdown",
   "id": "0db5eee8-259f-4722-8cab-b6fa007c2c33",
   "metadata": {},
   "source": [
    "## 2 sample T test\n",
    "---"
   ]
  },
  {
   "cell_type": "markdown",
   "id": "2dc235b4-9b07-4f17-80ea-91f2f131aad1",
   "metadata": {},
   "source": [
    "### Q: *\" 2 Sample T Test: Is average amount spend on  of Social Media Advertisement is same as that of TV?\"*\n",
    "---"
   ]
  },
  {
   "cell_type": "code",
   "execution_count": 38,
   "id": "6cfadf56-e915-4668-a794-7dfac80b0d7c",
   "metadata": {},
   "outputs": [
    {
     "name": "stdout",
     "output_type": "stream",
     "text": [
      "                    TV  Social_Media\n",
      "TV            1.000000     -0.038993\n",
      "Social_Media -0.038993      1.000000\n"
     ]
    }
   ],
   "source": [
    "# Compute the correlation matrix\n",
    "correlation = df[['TV', 'Social_Media']].corr()\n",
    "print(correlation)"
   ]
  },
  {
   "cell_type": "markdown",
   "id": "2793e712-527b-4e61-8862-5226ad252c26",
   "metadata": {},
   "source": [
    "#### we can conclude that TV and Social_Media are not correlated.\n",
    "#### We have 300 data, hence as per Central limit theorem, TV and Social Media are independent. \n",
    "____\n",
    "#### So we can run the 2 sample T test on these two."
   ]
  },
  {
   "cell_type": "code",
   "execution_count": 39,
   "id": "2f26aa7c-769e-4f79-91bb-b2bdb9888e0c",
   "metadata": {},
   "outputs": [
    {
     "name": "stdout",
     "output_type": "stream",
     "text": [
      "Data set composed of n = 300 values\n",
      "Social Media: Sample mean = 489.80, Sample std = 273.88\n",
      "TV: Sample mean = 517.43, Sample std = 288.11\n"
     ]
    }
   ],
   "source": [
    "# H0: mean of social media (mu_sm) = mean of tv (mu_tv)\n",
    "\n",
    "# Level of significance\n",
    "a = 0.05\n",
    "\n",
    "# Sample mean\n",
    "tmp = df.mean()\n",
    "sm_bar = tmp['Social_Media']\n",
    "tv_bar = tmp['TV']\n",
    "\n",
    "# Sample std\n",
    "tmp = df.std(ddof=1)\n",
    "Std_sm = tmp['Social_Media']\n",
    "Std_tv = tmp['TV']\n",
    "\n",
    "print(f'Data set composed of n = {n} values')\n",
    "print(f'Social Media: Sample mean = {sm_bar:.2f}, Sample std = {Std_sm:.2f}')\n",
    "print(f'TV: Sample mean = {tv_bar:.2f}, Sample std = {Std_tv:.2f}')\n",
    "\n",
    "# pooled sample var\n",
    "SV_p = ((n-1)*Std_sm**2 + (n-1)*Std_tv**2) / ((2*n)-2) \n",
    "\n",
    "# pooled sample std\n",
    "Std_p = np.sqrt(SV_p)"
   ]
  },
  {
   "cell_type": "code",
   "execution_count": 40,
   "id": "f08081dc-f507-4fb5-87ae-e343778ac62a",
   "metadata": {},
   "outputs": [
    {
     "name": "stdout",
     "output_type": "stream",
     "text": [
      "        p-value = 0.2290984136361578\n",
      "sig. lev. alpha = 0.050\n"
     ]
    }
   ],
   "source": [
    "# Compute value of Test Statistoc (TS)\n",
    "tbar2 = (sm_bar - tv_bar) / (Std_p * np.sqrt( 1/n + 1/n))\n",
    "\n",
    "# Compute p-value = 2*P(T>|tbar|)\n",
    "pvalue2 = 2*(1 - t.cdf(np.abs(tbar2), df=2*n-2))\n",
    "\n",
    "print(f'        p-value = {pvalue2}')\n",
    "print(f'sig. lev. alpha = {a:.3f}')"
   ]
  },
  {
   "cell_type": "markdown",
   "id": "5bd0f657-3b78-406c-9a8a-511ab3d1940a",
   "metadata": {},
   "source": [
    "#### Q: *\"Is average amount spend on  of Social Media Advertisement is different from that of TV?\"*\n",
    "#### A: *\"We failed to reject our null hypothesis(H_0), at level of significance $\\alpha = 0.05$ (p-value=0.229), Hence the average amount spend on  of Social Media Advertisement is same as that of TV? *"
   ]
  },
  {
   "cell_type": "markdown",
   "id": "6384cb6f-0f40-4419-bbe4-a710bdfe382b",
   "metadata": {},
   "source": [
    "## Tests on Variance\n",
    "---"
   ]
  },
  {
   "cell_type": "markdown",
   "id": "1a3c4bf5-80e3-472b-8f16-1ef0b0e3efd3",
   "metadata": {},
   "source": [
    "## 1 Sample Test: Chi Squared Method\n",
    "---"
   ]
  },
  {
   "cell_type": "markdown",
   "id": "461fa3cb-30e7-411d-93fb-8f5d63cf706b",
   "metadata": {},
   "source": [
    "### Q: *\"Is variance of product sold less than 2000000 unit$^2$?\"*\n",
    "#### 1 Sample Test: chi Squared Method\n",
    "---"
   ]
  },
  {
   "cell_type": "code",
   "execution_count": 41,
   "id": "645bde57-7ffa-4264-9bfc-2fea3d574075",
   "metadata": {},
   "outputs": [
    {
     "name": "stdout",
     "output_type": "stream",
     "text": [
      "Data set composed of n = 300 values\n",
      "Sample mean = 7031.52, Sample var = 2902303.90\n"
     ]
    }
   ],
   "source": [
    "# Null hypothesis H0: sigma2 <= 2000000  H1: sigma2 > 2000000\n",
    "\n",
    "var0 = 2000000\n",
    "\n",
    "# Level of significance\n",
    "a = 0.05\n",
    "\n",
    "# Number of values\n",
    "n = len(df)\n",
    "\n",
    "# Sample mean\n",
    "tmp =  df.mean()\n",
    "ybar= tmp['Product_Sold'] #7031\n",
    "\n",
    "# Sample std\n",
    "tmp = df.var(ddof=1)\n",
    "Sy = tmp['Product_Sold']  #1703\n",
    "\n",
    "print(f'Data set composed of n = {n} values')\n",
    "print(f'Sample mean = {ybar:.2f}, Sample var = {Sy:.2f}')"
   ]
  },
  {
   "cell_type": "code",
   "execution_count": 42,
   "id": "ba8c7fbe-345b-42f1-be8e-5a3d2efebe47",
   "metadata": {},
   "outputs": [],
   "source": [
    "# Compute value of Test Statistic (TS)\n",
    "c = (n - 1) * Sy / var0\n",
    "\n",
    "# Compute p-value = P(chi2>c) with n-1 degrees of freedom\n",
    "pvalue = 1 - chi2.cdf(c, df=n-1)"
   ]
  },
  {
   "cell_type": "code",
   "execution_count": 43,
   "id": "c0344160-3897-4245-b52f-68fc215f17f8",
   "metadata": {},
   "outputs": [
    {
     "name": "stdout",
     "output_type": "stream",
     "text": [
      "TS value   chi = 433.894\n",
      "p-value =  0.00000\n",
      "sig. lev. alpha =   0.050\n"
     ]
    }
   ],
   "source": [
    "# Print results\n",
    "print(f'TS value   chi = {c:7.3f}')\n",
    "print(f'p-value = {pvalue: 7.5f}')\n",
    "print(f'sig. lev. alpha = {a:7.3f}')"
   ]
  },
  {
   "cell_type": "markdown",
   "id": "fda12d97-3be1-4d4b-b0e2-b1910a2c10e4",
   "metadata": {},
   "source": [
    "#### *\" Hence, we reject Null Hypothesis at level of significance $\\alpha = 0.05$ and conclude that the variance of product sold is greater than 1000000 unit$^2$?\"*"
   ]
  },
  {
   "cell_type": "markdown",
   "id": "2f0bd1be-ce56-4d18-b387-b9dc9bb93321",
   "metadata": {},
   "source": [
    "##  2 Sample Chi Squared Test: F-Test \n",
    "---"
   ]
  },
  {
   "cell_type": "markdown",
   "id": "0fcf352c-b9e9-470d-9754-cc02695ac3ed",
   "metadata": {},
   "source": [
    "### Q: *\"Is variance of amount spent on social_media different from that of TV?\"*\n",
    "---"
   ]
  },
  {
   "cell_type": "code",
   "execution_count": 44,
   "id": "503e86a3-52f8-4efc-abd4-144501332048",
   "metadata": {},
   "outputs": [
    {
     "name": "stdout",
     "output_type": "stream",
     "text": [
      "Data set composed of n = 300\n",
      "Social_Media: Sample var = 75012.40\n",
      "TV: Sample var = 83010.13\n"
     ]
    }
   ],
   "source": [
    "# H0: Variance of amount spend on social media (varx) = Variance of amount spend on TV (vary) ;\n",
    "# H1:  Variance of amount spend on social media (varx) != Variance of amount spend on TV (vary)\n",
    "\n",
    "# Level of significance\n",
    "a = 0.05\n",
    "\n",
    "# Number of values:\n",
    "n = len(df)\n",
    "\n",
    "tmp = df.var(ddof=1)\n",
    "\n",
    "# Sample var of Social_Media\n",
    "sv_sm = tmp['Social_Media']\n",
    "\n",
    "# Sample var of TV\n",
    "sv_tv = tmp['TV']\n",
    "\n",
    "print(f'Data set composed of n = {n}')\n",
    "print(f'Social_Media: Sample var = {sv_sm:.2f}')\n",
    "print(f'TV: Sample var = {sv_tv:.2f}')"
   ]
  },
  {
   "cell_type": "code",
   "execution_count": 45,
   "id": "41371008-cd70-460b-88a9-44631c7b8901",
   "metadata": {},
   "outputs": [],
   "source": [
    "# Compute value of Test Statistic (TS)\n",
    "v = sv_sm/sv_tv\n",
    "\n",
    "# Compute P(F<v)\n",
    "p = f.cdf(v, n-1, n-1)\n",
    "\n",
    "# Compute p-value = 2 * min{P(F<v), 1-P(F<v)) with n-1,m-1 degrees of freedom\n",
    "pvalue = 2*min([p, 1-p])"
   ]
  },
  {
   "cell_type": "code",
   "execution_count": 46,
   "id": "15d307e4-99f5-415f-9985-e63d494aedaa",
   "metadata": {},
   "outputs": [
    {
     "name": "stdout",
     "output_type": "stream",
     "text": [
      "TS value : T = 0.904\n",
      "p-value = 0.381584\n",
      "sig. lev. alpha = 0.050\n"
     ]
    }
   ],
   "source": [
    "# Print results\n",
    "print(f'TS value : T = {v:.3f}')\n",
    "print(f'p-value = {pvalue:.6f}')\n",
    "print(f'sig. lev. alpha = {a:.3f}')"
   ]
  },
  {
   "cell_type": "markdown",
   "id": "183a507b-68f7-4c55-8ca3-0b1d9fea6b31",
   "metadata": {},
   "source": [
    "#### Q: *\"Is variance of amount spent on social_media different from that of TV??\"*\n",
    "#### A: *\"Hence, we fail to reject Null Hypthesis at level of significance $\\alpha = 0.05$ (p-value=0.381584)\"*\n",
    "#### Interpretation: The variance of amount spent on social media is same as that of TV. \n",
    "---"
   ]
  },
  {
   "cell_type": "markdown",
   "id": "b2674726-be03-4aa0-922b-cdcfd39ef9e3",
   "metadata": {},
   "source": [
    "## Proportionality test : Z-test\n",
    "---"
   ]
  },
  {
   "cell_type": "markdown",
   "id": "b4914993-aec9-477d-acf7-757b1b60bb72",
   "metadata": {},
   "source": [
    "### Q: *\"If amount spent on social media > 500 then product sold is at least 7000 \" ?*\n",
    "---"
   ]
  },
  {
   "cell_type": "code",
   "execution_count": 47,
   "id": "a429c35f-4196-44d4-a0c7-8ab7e5dd6741",
   "metadata": {},
   "outputs": [
    {
     "name": "stdout",
     "output_type": "stream",
     "text": [
      "Data set composed of  Social_Media>500 in data set = 97 \n",
      "and   Social_Media<500 in data set = 59 \n",
      "prob Social_Media>500 with Product_Sold>7000 : xbar = 0.622\n",
      "prob Social_Media<500 with Product_Sold>7000: ybar = 0.378\n"
     ]
    }
   ],
   "source": [
    "# Ho: (amount spent on social media > 500 ) px <= py  H1: px > py (amount spent on social media < 500 )\n",
    "\n",
    "# Take only data related to Product_Sold >= 7000\n",
    "\n",
    "PS_more_than_7000 = df[df['Product_Sold'] >= 7000]\n",
    "\n",
    "# Take only data related to social media <= 500 within Product_Sold >= 7000\n",
    "\n",
    "SM_less_than500 = PS_more_than_7000[PS_more_than_7000['Social_Media'] <= 500]\n",
    "\n",
    "# Take only data related to social media > 500 within Product_Sold >= 7000\n",
    "\n",
    "SM_more_than500 = PS_more_than_7000[PS_more_than_7000['Social_Media'] > 500]\n",
    "\n",
    "# Number of Product_Sold>7000 in data set\n",
    "ps_n = len(PS_more_than_7000)\n",
    "\n",
    "# Number of Social_Media>500 within Product_Sold>7000 in data set\n",
    "sm_more_n = len(SM_more_than500)\n",
    "\n",
    "# Number of Social_Media<500 within Product_Sold>7000 in data set\n",
    "sm_less_n = len(SM_less_than500)\n",
    "\n",
    "\n",
    "# Estimate prob of Social_Media>500 with Product_Sold>7000 in data set\n",
    "xbar = sm_more_n/ps_n\n",
    "\n",
    "\n",
    "# Estimate prob of Social_Media<500 with Product_Sold>7000 in data set\n",
    "ybar = sm_less_n/ps_n\n",
    "\n",
    "# Estimate pooled sample proportion\n",
    "phat = (sm_more_n*xbar + sm_less_n*ybar) / (sm_more_n+sm_less_n)\n",
    "\n",
    "print(f'Data set composed of  Social_Media>500 in data set = {sm_more_n} ')\n",
    "print(f'and   Social_Media<500 in data set = {sm_less_n} ')\n",
    "print(f'prob Social_Media>500 with Product_Sold>7000 : xbar = {xbar:.3f}')\n",
    "print(f'prob Social_Media<500 with Product_Sold>7000: ybar = {ybar:.3f}')"
   ]
  },
  {
   "cell_type": "code",
   "execution_count": 48,
   "id": "bf30e4c3-6f10-44e6-b802-47ed770cd762",
   "metadata": {},
   "outputs": [
    {
     "name": "stdout",
     "output_type": "stream",
     "text": [
      "TS value : Z = 2.956\n",
      "p-value = 0.00312\n",
      "sig. lev. alpha = 0.050\n"
     ]
    }
   ],
   "source": [
    "# Compute value of Test Statistic (TS)\n",
    "c = (xbar - ybar)/np.sqrt(phat * (1-phat) * (1/sm_more_n + 1/sm_less_n)) \n",
    "\n",
    "# Compute p-value = P(Z > c)\n",
    "pvalue3 = 2*(1 - norm.cdf(np.abs(c)))\n",
    "\n",
    "# Print results\n",
    "print(f'TS value : Z = {c:.3f}')\n",
    "print(f'p-value = {pvalue3:.5f}')\n",
    "print(f'sig. lev. alpha = {a:.3f}')"
   ]
  },
  {
   "cell_type": "markdown",
   "id": "1e48f363-870a-4ed1-9942-75a4a8efe920",
   "metadata": {},
   "source": [
    "### Q: *\"If amount spent on social media > 500 then product sold is at least 7000?\"*\n",
    "### A: *\"No, We reject Null Hypothesis at level of significance $\\alpha = 0.05$ (p-value=0.0.00312)\"*\n",
    "### Interpretation: The data allow us to conclude that if we spend more than 500 in social media, it doesn't mean that product sold will be more than 7000.\n",
    "---"
   ]
  }
 ],
 "metadata": {
  "kernelspec": {
   "display_name": "Python 3 (ipykernel)",
   "language": "python",
   "name": "python3"
  },
  "language_info": {
   "codemirror_mode": {
    "name": "ipython",
    "version": 3
   },
   "file_extension": ".py",
   "mimetype": "text/x-python",
   "name": "python",
   "nbconvert_exporter": "python",
   "pygments_lexer": "ipython3",
   "version": "3.12.1"
  }
 },
 "nbformat": 4,
 "nbformat_minor": 5
}
